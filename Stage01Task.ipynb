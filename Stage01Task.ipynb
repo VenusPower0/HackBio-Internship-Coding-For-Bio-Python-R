{
  "cells": [
    {
      "cell_type": "markdown",
      "metadata": {
        "id": "view-in-github",
        "colab_type": "text"
      },
      "source": [
        "<a href=\"https://colab.research.google.com/github/VenusPower0/HackBio-Internship-Coding-For-Bio-Python-R/blob/main/Stage01Task.ipynb\" target=\"_parent\"><img src=\"https://colab.research.google.com/assets/colab-badge.svg\" alt=\"Open In Colab\"/></a>"
      ]
    },
    {
      "cell_type": "code",
      "execution_count": 1,
      "metadata": {
        "id": "1NvsqJxM_HnU"
      },
      "outputs": [],
      "source": [
        "# DNA to Protein Translation Function\n",
        "def translate_dna(sequence):\n",
        "    table = {\n",
        "        'ATA':'I', 'ATC':'I', 'ATT':'I', 'ATG':'M',\n",
        "        'ACA':'T', 'ACC':'T', 'ACG':'T', 'ACT':'T',\n",
        "        'AAC':'N', 'AAT':'N', 'AAA':'K', 'AAG':'K',\n",
        "        'AGC':'S', 'AGT':'S', 'AGA':'R', 'AGG':'R',\n",
        "        'CTA':'L', 'CTC':'L', 'CTG':'L', 'CTT':'L',\n",
        "        'CCA':'P', 'CCC':'P', 'CCG':'P', 'CCT':'P',\n",
        "        'CAC':'H', 'CAT':'H', 'CAA':'Q', 'CAG':'Q',\n",
        "        'CGA':'R', 'CGC':'R', 'CGG':'R', 'CGT':'R',\n",
        "        'GTA':'V', 'GTC':'V', 'GTG':'V', 'GTT':'V',\n",
        "        'GCA':'A', 'GCC':'A', 'GCG':'A', 'GCT':'A',\n",
        "        'GAC':'D', 'GAT':'D', 'GAA':'E', 'GAG':'E',\n",
        "        'GGA':'G', 'GGC':'G', 'GGG':'G', 'GGT':'G',\n",
        "        'TCA':'S', 'TCC':'S', 'TCG':'S', 'TCT':'S',\n",
        "        'TTC':'F', 'TTT':'F', 'TTA':'L', 'TTG':'L',\n",
        "        'TAC':'Y', 'TAT':'Y', 'TAA':'_', 'TAG':'_', 'TGA':'_'\n",
        "    }\n",
        "    protein = ''\n",
        "    if len(sequence) % 3 == 0:\n",
        "        for i in range(0, len(sequence), 3):\n",
        "            codon = sequence[i:i+3]\n",
        "            protein += table[codon]\n",
        "    return protein"
      ]
    },
    {
      "cell_type": "code",
      "execution_count": 2,
      "metadata": {
        "colab": {
          "base_uri": "https://localhost:8080/"
        },
        "id": "Iz34_CD6D_01",
        "outputId": "3e4cc684-c556-4936-9d7f-8b8cd7c5a43d"
      },
      "outputs": [
        {
          "output_type": "stream",
          "name": "stdout",
          "text": [
            "MAIVMGR_KGAR_\n"
          ]
        }
      ],
      "source": [
        "dna_sequence = 'ATGGCCATTGTAATGGGCCGCTGAAAGGGTGCCCGATAG'\n",
        "protein = translate_dna(dna_sequence)\n",
        "print(protein)"
      ]
    },
    {
      "cell_type": "code",
      "execution_count": 20,
      "metadata": {
        "id": "2MfrzDRrSrHe"
      },
      "outputs": [],
      "source": [
        "import numpy as np\n",
        "import pandas as pd\n",
        "import seaborn as sns\n",
        "import matplotlib.pyplot as plt"
      ]
    },
    {
      "cell_type": "code",
      "execution_count": 21,
      "metadata": {
        "id": "RPt6ciSnZl7C"
      },
      "outputs": [],
      "source": [
        "def logistic_growth(x, k, x_mid):\n",
        "    logistic_growth = 1 / (1 + np.exp(-k * (x - x_mid)))\n",
        "    return logistic_growth"
      ]
    },
    {
      "cell_type": "code",
      "execution_count": 22,
      "metadata": {
        "colab": {
          "base_uri": "https://localhost:8080/"
        },
        "id": "hl6ZRUZwZ57Q",
        "outputId": "c30dce8c-3693-418d-ef65-d4a73da5b3ab"
      },
      "outputs": [
        {
          "output_type": "stream",
          "name": "stdout",
          "text": [
            "0.9999546021312976\n"
          ]
        }
      ],
      "source": [
        "print(logistic_growth(10, 2, 5))"
      ]
    },
    {
      "cell_type": "code",
      "execution_count": 23,
      "metadata": {
        "colab": {
          "base_uri": "https://localhost:8080/"
        },
        "id": "W4wihAlyZ-Ej",
        "outputId": "5b78ec40-8678-4532-c385-55b95665be62"
      },
      "outputs": [
        {
          "output_type": "stream",
          "name": "stdout",
          "text": [
            "           0\n",
            "0   0.006693\n",
            "1   0.010987\n",
            "2   0.017986\n",
            "3   0.029312\n",
            "4   0.047426\n",
            "5   0.075858\n",
            "6   0.119203\n",
            "7   0.182426\n",
            "8   0.268941\n",
            "9   0.377541\n",
            "10  0.500000\n",
            "11  0.622459\n",
            "12  0.731059\n",
            "13  0.817574\n",
            "14  0.880797\n",
            "15  0.924142\n",
            "16  0.952574\n",
            "17  0.970688\n",
            "18  0.982014\n",
            "19  0.989013\n",
            "20  0.993307\n",
            "21  0.995930\n",
            "22  0.997527\n",
            "23  0.998499\n"
          ]
        }
      ],
      "source": [
        "population_size = []\n",
        "for i in range(0, 24):\n",
        "    population_size.append(logistic_growth(i, 0.5, 10))\n",
        "df = pd.DataFrame(population_size)\n",
        "print(df)"
      ]
    },
    {
      "cell_type": "code",
      "execution_count": 24,
      "metadata": {
        "colab": {
          "base_uri": "https://localhost:8080/",
          "height": 472
        },
        "id": "PeC0QF3ecf4b",
        "outputId": "1293a5c3-d7ee-43a8-8310-722742def9c5"
      },
      "outputs": [
        {
          "output_type": "display_data",
          "data": {
            "text/plain": [
              "<Figure size 640x480 with 1 Axes>"
            ],
            "image/png": "[encoded data removed]"
          },
          "metadata": {}
        }
      ],
      "source": [
        "sns.lineplot(x = range(0, 24), y = population_size)\n",
        "plt.xlabel('Time')\n",
        "plt.ylabel('Population Size')\n",
        "plt.title('Logistic Growth Simulation')\n",
        "plt.show()"
      ]
    },
    {
      "cell_type": "code",
      "execution_count": 30,
      "metadata": {
        "id": "J3Z13CUwsFoH"
      },
      "outputs": [],
      "source": [
        "def logistic_growth(x, k, x_mid):\n",
        "    logistic_growth = 0.8 / (1 + np.exp(-k * (x - x_mid)))\n",
        "    return logistic_growth\n",
        "def time_to_80_percent(k, x_mid):\n",
        "    # 0.8 == 1 / (1 + exp(-k*(x - x_mid)))\n",
        "    # x = x_mid - ln(1/0.8 - 1)/k\n",
        "    return x_mid - np.log(1/0.8 - 1)/k"
      ]
    },
    {
      "cell_type": "code",
      "source": [
        "# For k=0.5, x_mid=10\n",
        "print(time_to_80_percent(0.5, 10))"
      ],
      "metadata": {
        "id": "j8dtbBOkzF2P",
        "outputId": "4174bbb9-22ef-4a70-c9bf-16d57b21cb2e",
        "colab": {
          "base_uri": "https://localhost:8080/"
        }
      },
      "execution_count": 31,
      "outputs": [
        {
          "output_type": "stream",
          "name": "stdout",
          "text": [
            "12.772588722239782\n"
          ]
        }
      ]
    },
    {
      "cell_type": "code",
      "execution_count": 1,
      "metadata": {
        "colab": {
          "base_uri": "https://localhost:8080/"
        },
        "id": "kkxsJmYTlGhp",
        "outputId": "1810de5a-be2f-4e88-e08f-926facd12931"
      },
      "outputs": [
        {
          "output_type": "stream",
          "name": "stdout",
          "text": [
            "Hamming distance between @Venus Power and @venus power is 2\n"
          ]
        }
      ],
      "source": [
        "slack_username = \"@Venus Power\"\n",
        "twitter_username = \"@venus power\"\n",
        "\n",
        "def hamming_distance(slack_username, twitter_username):\n",
        "    return sum(c1 != c2 for c1, c2 in zip(slack_username, twitter_username))\n",
        "\n",
        "distance = hamming_distance(slack_username, twitter_username)\n",
        "print(f\"Hamming distance between {slack_username} and {twitter_username} is {distance}\")"
      ]
    },
    {
      "cell_type": "code",
      "execution_count": null,
      "metadata": {
        "id": "z9pSNiNPpTBi"
      },
      "outputs": [],
      "source": []
    }
  ],
  "metadata": {
    "colab": {
      "provenance": [],
      "authorship_tag": "ABX9TyMPn4/TTg8b+TehftJriyVH",
      "include_colab_link": true
    },
    "kernelspec": {
      "display_name": "Python 3",
      "name": "python3"
    },
    "language_info": {
      "name": "python"
    }
  },
  "nbformat": 4,
  "nbformat_minor": 0
}