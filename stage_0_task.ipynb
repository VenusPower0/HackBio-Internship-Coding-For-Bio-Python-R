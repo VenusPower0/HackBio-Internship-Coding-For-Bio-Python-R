{
  "nbformat": 4,
  "nbformat_minor": 0,
  "metadata": {
    "colab": {
      "provenance": [],
      "authorship_tag": "ABX9TyNB6n8vZaqd2HwBo2KtC6j0",
      "include_colab_link": true
    },
    "kernelspec": {
      "name": "python3",
      "display_name": "Python 3"
    },
    "language_info": {
      "name": "python"
    }
  },
  "cells": [
    {
      "cell_type": "markdown",
      "metadata": {
        "id": "view-in-github",
        "colab_type": "text"
      },
      "source": [
        "<a href=\"https://colab.research.google.com/github/VenusPower0/HackBio-Internship-Coding-For-Bio-Python-R/blob/main/stage_0_task.ipynb\" target=\"_parent\"><img src=\"https://colab.research.google.com/assets/colab-badge.svg\" alt=\"Open In Colab\"/></a>"
      ]
    },
    {
      "cell_type": "markdown",
      "source": [
        "# **DATA STRUCTURE USED:**\n",
        "*   Lists\n",
        "*   Dictionaries\n",
        "\n",
        "E.g\n",
        "\n",
        "\n",
        "```\n",
        "team_glycine = [\n",
        "  {\"Member A\"}, {\"Member B\"}, {\"Member C\"}\n",
        "]\n",
        "\n",
        "```\n",
        "\n",
        "\n",
        "\n",
        "\n"
      ],
      "metadata": {
        "id": "bI0kMuMMhwf_"
      }
    },
    {
      "cell_type": "code",
      "execution_count": null,
      "metadata": {
        "colab": {
          "base_uri": "https://localhost:8080/"
        },
        "id": "hywoXz6bhu-k",
        "outputId": "86461c8e-b88c-4bd1-a435-0961208780a8"
      },
      "outputs": [
        {
          "output_type": "stream",
          "name": "stdout",
          "text": [
            "[{'Member A Info': {'Name': 'Amos Seleem', 'Slack Username': '@Venus Power', 'Email': 'seleemamos@gmail.com', 'Hobby': 'Learning new things', 'Country': 'Nigeria', 'Discipline': 'Cell Biology and Genetics', 'Preferred Language': 'Python'}}, {'Member B Info': {'Name': 'Agboola Odunayo', 'Slack Username': '@Odunayo Racheal', 'Email': 'odunayoracheal04@gmail.com', 'Hobby': 'Reading and listening to music', 'Country': 'Nigeria', 'Discipline': 'Cell Biology and Genetics', 'Preferred Language': 'Python'}}, {'Member C Info': {'Name': 'Amarachi Akwekeoji', 'Slack Username': '@Amarachi', 'Email': 'l.verachivideoa@gmail.com', 'Hobby': 'Watch movies, reading and listening to music', 'Country': 'Nigeria', 'Discipline': 'Cell Biology and Genetics', 'Preferred Language': 'Python'}}]\n",
            "[{'Member A Info': {'Country': 'Nigeria',\n",
            "                    'Discipline': 'Cell Biology and Genetics',\n",
            "                    'Email': 'seleemamos@gmail.com',\n",
            "                    'Hobby': 'Learning new things',\n",
            "                    'Name': 'Amos Seleem',\n",
            "                    'Preferred Language': 'Python',\n",
            "                    'Slack Username': '@Venus Power'}},\n",
            " {'Member B Info': {'Country': 'Nigeria',\n",
            "                    'Discipline': 'Cell Biology and Genetics',\n",
            "                    'Email': 'odunayoracheal04@gmail.com',\n",
            "                    'Hobby': 'Reading and listening to music',\n",
            "                    'Name': 'Agboola Odunayo',\n",
            "                    'Preferred Language': 'Python',\n",
            "                    'Slack Username': '@Odunayo Racheal'}},\n",
            " {'Member C Info': {'Country': 'Nigeria',\n",
            "                    'Discipline': 'Cell Biology and Genetics',\n",
            "                    'Email': 'l.verachivideoa@gmail.com',\n",
            "                    'Hobby': 'Watch movies, reading and listening to music',\n",
            "                    'Name': 'Amarachi Akwekeoji',\n",
            "                    'Preferred Language': 'Python',\n",
            "                    'Slack Username': '@Amarachi'}}]\n"
          ]
        }
      ],
      "source": [
        "team_glycine = [\n",
        "       {\"Member A Info\": {\n",
        "           \"Name\": \"Amos Seleem\",\n",
        "           \"Slack Username\": \"@Venus Power\",\n",
        "           \"Email\": \"seleemamos@gmail.com\",\n",
        "           \"Hobby\": \"Learning new things\",\n",
        "           \"Country\": \"Nigeria\",\n",
        "           \"Discipline\": \"Cell Biology and Genetics\",\n",
        "           \"Preferred Language\": \"Python\"\n",
        "       }},\n",
        "       {\"Member B Info\": {\n",
        "           \"Name\": \"Agboola Odunayo\",\n",
        "           \"Slack Username\": \"@Odunayo Racheal\",\n",
        "           \"Email\": \"odunayoracheal04@gmail.com\",\n",
        "           \"Hobby\": \"Reading and listening to music\",\n",
        "           \"Country\": \"Nigeria\",\n",
        "           \"Discipline\": \"Cell Biology and Genetics\",\n",
        "           \"Preferred Language\": \"Python\"\n",
        "       }},\n",
        "       {\"Member C Info\": {\n",
        "           \"Name\": \"Amarachi Akwekeoji\",\n",
        "           \"Slack Username\": \"@Amarachi\",\n",
        "           \"Email\": \"l.verachivideoa@gmail.com\",\n",
        "           \"Hobby\": \"Watch movies, reading and listening to music\",\n",
        "           \"Country\": \"Nigeria\",\n",
        "           \"Discipline\": \"Cell Biology and Genetics\",\n",
        "           \"Preferred Language\": \"Python\"\n",
        "       }}\n",
        "   ]\n",
        "from pprint import pprint\n",
        "pprint(team_glycine)"
      ]
    },
    {
      "cell_type": "markdown",
      "source": [
        "To make the output appear more ordered, import pprint (pretty print)"
      ],
      "metadata": {
        "id": "25XZiZOouVfY"
      }
    },
    {
      "cell_type": "code",
      "source": [
        "from pprint import pprint\n",
        "pprint(team_glycine)"
      ],
      "metadata": {
        "colab": {
          "base_uri": "https://localhost:8080/"
        },
        "id": "WfyBZtuDnclZ",
        "outputId": "76555705-5e4f-4085-be8a-b814ef6f2aa0"
      },
      "execution_count": null,
      "outputs": [
        {
          "output_type": "stream",
          "name": "stdout",
          "text": [
            "[{'Member A Info': {'Country': 'Nigeria',\n",
            "                    'Discipline': 'Cell Biology and Genetics',\n",
            "                    'Email': 'seleemamos@gmail.com',\n",
            "                    'Hobby': 'Learning new things',\n",
            "                    'Name': 'Amos Seleem',\n",
            "                    'Preferred Language': 'Python',\n",
            "                    'Slack Username': '@Venus Power'}},\n",
            " {'Member B Info': {'Country': 'Nigeria',\n",
            "                    'Discipline': 'Cell Biology and Genetics',\n",
            "                    'Email': 'odunayoracheal04@gmail.com',\n",
            "                    'Hobby': 'Reading and listening to music',\n",
            "                    'Name': 'Agboola Odunayo',\n",
            "                    'Preferred Language': 'Python',\n",
            "                    'Slack Username': '@Odunayo Racheal'}},\n",
            " {'Member C Info': {'Country': 'Nigeria',\n",
            "                    'Discipline': 'Cell Biology and Genetics',\n",
            "                    'Email': 'l.verachivideoa@gmail.com',\n",
            "                    'Hobby': 'Watch movies, reading and listening to music',\n",
            "                    'Name': 'Amarachi Akwekeoji',\n",
            "                    'Preferred Language': 'Python',\n",
            "                    'Slack Username': '@Amarachi'}}]\n"
          ]
        }
      ]
    },
    {
      "cell_type": "code",
      "source": [
        "print(team_glycine[0][\"Member A Info\"][\"Name\"])"
      ],
      "metadata": {
        "colab": {
          "base_uri": "https://localhost:8080/"
        },
        "id": "tZJjcLzvtDaU",
        "outputId": "b40d38a1-7827-438b-a365-8578a6d9df07"
      },
      "execution_count": null,
      "outputs": [
        {
          "output_type": "stream",
          "name": "stdout",
          "text": [
            "Amos Seleem\n"
          ]
        }
      ]
    },
    {
      "cell_type": "code",
      "source": [],
      "metadata": {
        "id": "E4fDrnFgtlI5"
      },
      "execution_count": null,
      "outputs": []
    }
  ]
}